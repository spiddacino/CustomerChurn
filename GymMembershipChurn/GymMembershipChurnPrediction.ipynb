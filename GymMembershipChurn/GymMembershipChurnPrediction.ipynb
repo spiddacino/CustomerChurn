{
 "cells": [
  {
   "cell_type": "code",
   "execution_count": null,
   "id": "86a6a8dd",
   "metadata": {},
   "outputs": [],
   "source": [
    "!pip install markupsafe==2.0.1 Jinja2"
   ]
  },
  {
   "cell_type": "code",
   "execution_count": null,
   "id": "ef4f4b36",
   "metadata": {},
   "outputs": [],
   "source": [
    "# Import libraries\n",
    "import pandas as pd\n",
    "import kaggle\n",
    "from pycaret.classification import *"
   ]
  },
  {
   "cell_type": "code",
   "execution_count": null,
   "id": "dc5fd8ba",
   "metadata": {},
   "outputs": [],
   "source": []
  }
 ],
 "metadata": {
  "kernelspec": {
   "display_name": "Python 3 (ipykernel)",
   "language": "python",
   "name": "python3"
  },
  "language_info": {
   "codemirror_mode": {
    "name": "ipython",
    "version": 3
   },
   "file_extension": ".py",
   "mimetype": "text/x-python",
   "name": "python",
   "nbconvert_exporter": "python",
   "pygments_lexer": "ipython3",
   "version": "3.11.5"
  }
 },
 "nbformat": 4,
 "nbformat_minor": 5
}
